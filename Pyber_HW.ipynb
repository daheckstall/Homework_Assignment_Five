{
 "cells": [
  {
   "cell_type": "code",
   "execution_count": null,
   "metadata": {},
   "outputs": [],
   "source": [
    "import matplotlib.pyplot as plt\n",
    "import pandas as pd \n",
    "import numpy as np "
   ]
  },
  {
   "cell_type": "code",
   "execution_count": null,
   "metadata": {},
   "outputs": [],
   "source": [
    "city_data_to_load = \"city_data.csv\"\n",
    "ride_data_to_load = \"ride_data.csv\""
   ]
  },
  {
   "cell_type": "code",
   "execution_count": null,
   "metadata": {},
   "outputs": [],
   "source": [
    "# read the csv with pandas\n",
    "city_data = pd.read_csv(city_data_to_load)\n",
    "ride_data = pd.read_csv(ride_data_to_load)"
   ]
  },
  {
   "cell_type": "code",
   "execution_count": null,
   "metadata": {},
   "outputs": [],
   "source": [
    "#combine the data into single dataset\n",
    "city_ride_data = pd.merge(ride_data,city_data, how=\"left\", on=[\"city\", \"city\"])"
   ]
  },
  {
   "cell_type": "code",
   "execution_count": null,
   "metadata": {},
   "outputs": [],
   "source": [
    "#separate original df into 3 for city types\n",
    "urban_cities = city_ride_data[city_ride_data[\"type\"] == \"Urban\"]\n",
    "suburban_cities = city_ride_data[city_ride_data[\"type\"] == \"Suburban\"]\n",
    "rural_cities = city_ride_data[city_ride_data[\"type\"] == \"Rural\"]\n"
   ]
  },
  {
   "cell_type": "code",
   "execution_count": null,
   "metadata": {},
   "outputs": [],
   "source": [
    "urban_ride_count = urban_cities.groupby([\"city\"]).count()[\"ride_id\"]\n",
    "urban_avg_fare = urban_cities.groupby([\"city\"]).mean()[\"fare\"]\n",
    "urban_driver_count = urban_cities.groupby([\"city\"]).mean()[\"driver_count\"]"
   ]
  },
  {
   "cell_type": "code",
   "execution_count": null,
   "metadata": {},
   "outputs": [],
   "source": [
    "suburban_ride_count = suburban_cities.groupby([\"city\"]).count()[\"ride_id\"]\n",
    "suburban_avg_fare = suburban_cities.groupby([\"city\"]).mean()[\"fare\"]\n",
    "suburban_driver_count = suburban_cities.groupby([\"city\"]).mean()[\"driver_count\"]"
   ]
  },
  {
   "cell_type": "code",
   "execution_count": null,
   "metadata": {},
   "outputs": [],
   "source": [
    "rural_ride_count = rural_cities.groupby([\"city\"]).count()[\"ride_id\"]\n",
    "rural_avg_fare = rural_cities.groupby([\"city\"]).mean()[\"fare\"]\n",
    "rural_driver_count = rural_cities.groupby([\"city\"]).mean()[\"driver_count\"]"
   ]
  },
  {
   "cell_type": "code",
   "execution_count": null,
   "metadata": {},
   "outputs": [],
   "source": [
    "#build scatter plot\n",
    "plt.scatter(\n",
    "    urban_ride_count, \n",
    "    urban_avg_fare,\n",
    "    s=urban_driver_count*10,\n",
    "    c=\"coral\",\n",
    "    label=\"urban\",\n",
    "    edgecolor=\"black\"\n",
    "    )\n",
    "\n",
    "plt.scatter(\n",
    "    suburban_ride_count, \n",
    "    suburban_avg_fare,\n",
    "    s=suburban_driver_count*10,\n",
    "    c=\"skyblue\",\n",
    "    label=\"suburban\",\n",
    "    edgecolor=\"black\"\n",
    "    )\n",
    "\n",
    "plt.scatter(\n",
    "    rural_ride_count, \n",
    "    rural_avg_fare,\n",
    "    s=rural_driver_count*10,\n",
    "    c=\"gold\",\n",
    "    label=\"rural\",\n",
    "    edgecolor=\"black\"\n",
    "    )\n",
    "\n",
    "plt.title(\"Pyber Ride Sharing Data (2016)\")\n",
    "plt.ylabel(\"Average Fare ($)\")\n",
    "plt.xlabel(\"Total Number of Rides (Per City)\")\n",
    "plt.xlim((0,40))\n",
    "plt.grid(True)\n",
    "\n",
    "# Create a legend\n",
    "lgnd = plt.legend(fontsize=\"small\", mode=\"Expanded\", \n",
    "                  numpoints=1, scatterpoints=1, \n",
    "                  loc=\"best\", title=\"City Types\", \n",
    "                  labelspacing=0.5)\n",
    "\n",
    "lgnd.legendHandles[0]._sizes = [30]\n",
    "lgnd.legendHandles[1]._sizes = [30]\n",
    "lgnd.legendHandles[2]._sizes = [30]\n",
    "# Incorporate a text label regarding circle size\n",
    "plt.text(42, 35, \"Note:\\nCircle size correlates with driver count per city.\")\n",
    "\n",
    "plt.savefig(\"Pyber_Ride_Data_Scatter_Plots.png\")\n",
    "\n",
    "plt.show()"
   ]
  }
 ],
 "metadata": {
  "kernelspec": {
   "display_name": "Python 3",
   "language": "python",
   "name": "python3"
  },
  "language_info": {
   "codemirror_mode": {
    "name": "ipython",
    "version": 3
   },
   "file_extension": ".py",
   "mimetype": "text/x-python",
   "name": "python",
   "nbconvert_exporter": "python",
   "pygments_lexer": "ipython3",
   "version": "3.6.4"
  }
 },
 "nbformat": 4,
 "nbformat_minor": 2
}
